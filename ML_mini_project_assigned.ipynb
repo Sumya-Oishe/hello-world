{
  "cells": [
    {
      "cell_type": "markdown",
      "metadata": {
        "id": "view-in-github",
        "colab_type": "text"
      },
      "source": [
        "<a href=\"https://colab.research.google.com/github/Sumya-Oishe/hello-world/blob/main/ML_mini_project_assigned.ipynb\" target=\"_parent\"><img src=\"https://colab.research.google.com/assets/colab-badge.svg\" alt=\"Open In Colab\"/></a>"
      ]
    },
    {
      "cell_type": "markdown",
      "metadata": {
        "id": "d7dHoBDmjP8E"
      },
      "source": [
        "# Machine Learning mini-project"
      ]
    },
    {
      "cell_type": "markdown",
      "metadata": {
        "id": "NNdEbuh7jP8F"
      },
      "source": [
        "## Understanding Classification and Regression (12 points)\n",
        "\n",
        "### Classification\n",
        "\n",
        "Describe a classification problem in chemical, biochemical, or environmental engineering (that is not related to drug discovery, since we've explored that in class). Specify the label of interest, and list at least 2 features that may be relevant for classification. If relevant, provide the units of the variables.\n",
        "\n",
        "**<font color=blue>0 / 6 points</font>**\n",
        "\n",
        "Describe the problem:\n",
        "\n",
        "Label:\n",
        "\n",
        "Features:"
      ]
    },
    {
      "cell_type": "markdown",
      "metadata": {
        "id": "SDzojCwijP8G"
      },
      "source": [
        "### Regression\n",
        "\n",
        "Describe a regression problem in chemical, biochemical, or environmental engineering (that is not related to thermodynamic properties, since we've covered that in class). Specify the label of interest, and list at least 2 features that may be relevant for regression. Also provide the units of the variables, if relevant.\n",
        "\n",
        "**<font color=blue>0 / 6 points</font>**\n",
        "\n",
        "Describe the problem:\n",
        "\n",
        "Label:\n",
        "\n",
        "Features:"
      ]
    },
    {
      "cell_type": "markdown",
      "metadata": {
        "id": "ZskKjiOAjP8G"
      },
      "source": [
        "**Use the cell below to import any libraries you need for this notebook**"
      ]
    },
    {
      "cell_type": "code",
      "execution_count": null,
      "metadata": {
        "id": "WHRrA_KCjP8G"
      },
      "outputs": [],
      "source": [
        "import pandas as pd\n",
        "from matplotlib import pyplot as plt\n",
        "import sklearn\n",
        "from sklearn.linear_model import LinearRegression\n",
        "from sklearn.metrics import mean_squared_error\n",
        "from sklearn.model_selection import train_test_split"
      ]
    },
    {
      "cell_type": "markdown",
      "metadata": {
        "id": "0DmuceW9jP8H"
      },
      "source": [
        "## Part 1: The white wine dataset (45 points)\n",
        "\n",
        "### Reading and sorting the dataset (5 points)\n",
        "\n",
        "**<font color=blue>0 / 5 points</font>** Read in the **white** wine quality dataset (find it in the datasets folder on Blackboard), sort it by residual sugar and then by alcohol content, and re-index the rows, so the sorted dataframe goes from 0 to max"
      ]
    },
    {
      "cell_type": "code",
      "execution_count": null,
      "metadata": {
        "id": "VPQGfAb9jP8H",
        "outputId": "9b312923-8ac7-4717-d17e-ca0f84781643"
      },
      "outputs": [
        {
          "data": {
            "text/html": [
              "<div>\n",
              "<style scoped>\n",
              "    .dataframe tbody tr th:only-of-type {\n",
              "        vertical-align: middle;\n",
              "    }\n",
              "\n",
              "    .dataframe tbody tr th {\n",
              "        vertical-align: top;\n",
              "    }\n",
              "\n",
              "    .dataframe thead th {\n",
              "        text-align: right;\n",
              "    }\n",
              "</style>\n",
              "<table border=\"1\" class=\"dataframe\">\n",
              "  <thead>\n",
              "    <tr style=\"text-align: right;\">\n",
              "      <th></th>\n",
              "      <th>fixed acidity</th>\n",
              "      <th>volatile acidity</th>\n",
              "      <th>citric acid</th>\n",
              "      <th>residual sugar</th>\n",
              "      <th>chlorides</th>\n",
              "      <th>free sulfur dioxide</th>\n",
              "      <th>total sulfur dioxide</th>\n",
              "      <th>density</th>\n",
              "      <th>pH</th>\n",
              "      <th>sulphates</th>\n",
              "      <th>alcohol</th>\n",
              "      <th>quality</th>\n",
              "    </tr>\n",
              "  </thead>\n",
              "  <tbody>\n",
              "    <tr>\n",
              "      <th>0</th>\n",
              "      <td>4.2</td>\n",
              "      <td>0.215</td>\n",
              "      <td>0.23</td>\n",
              "      <td>5.10</td>\n",
              "      <td>0.041</td>\n",
              "      <td>64.0</td>\n",
              "      <td>157.0</td>\n",
              "      <td>0.99688</td>\n",
              "      <td>3.42</td>\n",
              "      <td>0.44</td>\n",
              "      <td>8.00</td>\n",
              "      <td>3</td>\n",
              "    </tr>\n",
              "    <tr>\n",
              "      <th>1</th>\n",
              "      <td>4.5</td>\n",
              "      <td>0.190</td>\n",
              "      <td>0.21</td>\n",
              "      <td>0.95</td>\n",
              "      <td>0.033</td>\n",
              "      <td>89.0</td>\n",
              "      <td>159.0</td>\n",
              "      <td>0.99332</td>\n",
              "      <td>3.34</td>\n",
              "      <td>0.42</td>\n",
              "      <td>8.00</td>\n",
              "      <td>5</td>\n",
              "    </tr>\n",
              "    <tr>\n",
              "      <th>2</th>\n",
              "      <td>6.2</td>\n",
              "      <td>0.310</td>\n",
              "      <td>0.23</td>\n",
              "      <td>3.30</td>\n",
              "      <td>0.052</td>\n",
              "      <td>34.0</td>\n",
              "      <td>113.0</td>\n",
              "      <td>0.99429</td>\n",
              "      <td>3.16</td>\n",
              "      <td>0.48</td>\n",
              "      <td>8.40</td>\n",
              "      <td>5</td>\n",
              "    </tr>\n",
              "    <tr>\n",
              "      <th>3</th>\n",
              "      <td>6.2</td>\n",
              "      <td>0.310</td>\n",
              "      <td>0.23</td>\n",
              "      <td>3.30</td>\n",
              "      <td>0.052</td>\n",
              "      <td>34.0</td>\n",
              "      <td>113.0</td>\n",
              "      <td>0.99429</td>\n",
              "      <td>3.16</td>\n",
              "      <td>0.48</td>\n",
              "      <td>8.40</td>\n",
              "      <td>5</td>\n",
              "    </tr>\n",
              "    <tr>\n",
              "      <th>4</th>\n",
              "      <td>6.4</td>\n",
              "      <td>0.370</td>\n",
              "      <td>0.12</td>\n",
              "      <td>5.90</td>\n",
              "      <td>0.056</td>\n",
              "      <td>6.0</td>\n",
              "      <td>91.0</td>\n",
              "      <td>0.99536</td>\n",
              "      <td>3.06</td>\n",
              "      <td>0.46</td>\n",
              "      <td>8.40</td>\n",
              "      <td>4</td>\n",
              "    </tr>\n",
              "    <tr>\n",
              "      <th>...</th>\n",
              "      <td>...</td>\n",
              "      <td>...</td>\n",
              "      <td>...</td>\n",
              "      <td>...</td>\n",
              "      <td>...</td>\n",
              "      <td>...</td>\n",
              "      <td>...</td>\n",
              "      <td>...</td>\n",
              "      <td>...</td>\n",
              "      <td>...</td>\n",
              "      <td>...</td>\n",
              "      <td>...</td>\n",
              "    </tr>\n",
              "    <tr>\n",
              "      <th>4893</th>\n",
              "      <td>4.9</td>\n",
              "      <td>0.330</td>\n",
              "      <td>0.31</td>\n",
              "      <td>1.20</td>\n",
              "      <td>0.016</td>\n",
              "      <td>39.0</td>\n",
              "      <td>150.0</td>\n",
              "      <td>0.98713</td>\n",
              "      <td>3.33</td>\n",
              "      <td>0.59</td>\n",
              "      <td>14.00</td>\n",
              "      <td>8</td>\n",
              "    </tr>\n",
              "    <tr>\n",
              "      <th>4894</th>\n",
              "      <td>5.8</td>\n",
              "      <td>0.390</td>\n",
              "      <td>0.47</td>\n",
              "      <td>7.50</td>\n",
              "      <td>0.027</td>\n",
              "      <td>12.0</td>\n",
              "      <td>88.0</td>\n",
              "      <td>0.99070</td>\n",
              "      <td>3.38</td>\n",
              "      <td>0.45</td>\n",
              "      <td>14.00</td>\n",
              "      <td>6</td>\n",
              "    </tr>\n",
              "    <tr>\n",
              "      <th>4895</th>\n",
              "      <td>5.8</td>\n",
              "      <td>0.290</td>\n",
              "      <td>0.21</td>\n",
              "      <td>2.60</td>\n",
              "      <td>0.025</td>\n",
              "      <td>12.0</td>\n",
              "      <td>120.0</td>\n",
              "      <td>0.98940</td>\n",
              "      <td>3.39</td>\n",
              "      <td>0.79</td>\n",
              "      <td>14.00</td>\n",
              "      <td>7</td>\n",
              "    </tr>\n",
              "    <tr>\n",
              "      <th>4896</th>\n",
              "      <td>5.8</td>\n",
              "      <td>0.610</td>\n",
              "      <td>0.01</td>\n",
              "      <td>8.40</td>\n",
              "      <td>0.041</td>\n",
              "      <td>31.0</td>\n",
              "      <td>104.0</td>\n",
              "      <td>0.99090</td>\n",
              "      <td>3.26</td>\n",
              "      <td>0.72</td>\n",
              "      <td>14.05</td>\n",
              "      <td>7</td>\n",
              "    </tr>\n",
              "    <tr>\n",
              "      <th>4897</th>\n",
              "      <td>6.4</td>\n",
              "      <td>0.350</td>\n",
              "      <td>0.28</td>\n",
              "      <td>1.60</td>\n",
              "      <td>0.037</td>\n",
              "      <td>31.0</td>\n",
              "      <td>113.0</td>\n",
              "      <td>0.98779</td>\n",
              "      <td>3.12</td>\n",
              "      <td>0.40</td>\n",
              "      <td>14.20</td>\n",
              "      <td>7</td>\n",
              "    </tr>\n",
              "  </tbody>\n",
              "</table>\n",
              "<p>4898 rows × 12 columns</p>\n",
              "</div>"
            ],
            "text/plain": [
              "      fixed acidity  volatile acidity  citric acid  residual sugar  chlorides  \\\n",
              "0               4.2             0.215         0.23            5.10      0.041   \n",
              "1               4.5             0.190         0.21            0.95      0.033   \n",
              "2               6.2             0.310         0.23            3.30      0.052   \n",
              "3               6.2             0.310         0.23            3.30      0.052   \n",
              "4               6.4             0.370         0.12            5.90      0.056   \n",
              "...             ...               ...          ...             ...        ...   \n",
              "4893            4.9             0.330         0.31            1.20      0.016   \n",
              "4894            5.8             0.390         0.47            7.50      0.027   \n",
              "4895            5.8             0.290         0.21            2.60      0.025   \n",
              "4896            5.8             0.610         0.01            8.40      0.041   \n",
              "4897            6.4             0.350         0.28            1.60      0.037   \n",
              "\n",
              "      free sulfur dioxide  total sulfur dioxide  density    pH  sulphates  \\\n",
              "0                    64.0                 157.0  0.99688  3.42       0.44   \n",
              "1                    89.0                 159.0  0.99332  3.34       0.42   \n",
              "2                    34.0                 113.0  0.99429  3.16       0.48   \n",
              "3                    34.0                 113.0  0.99429  3.16       0.48   \n",
              "4                     6.0                  91.0  0.99536  3.06       0.46   \n",
              "...                   ...                   ...      ...   ...        ...   \n",
              "4893                 39.0                 150.0  0.98713  3.33       0.59   \n",
              "4894                 12.0                  88.0  0.99070  3.38       0.45   \n",
              "4895                 12.0                 120.0  0.98940  3.39       0.79   \n",
              "4896                 31.0                 104.0  0.99090  3.26       0.72   \n",
              "4897                 31.0                 113.0  0.98779  3.12       0.40   \n",
              "\n",
              "      alcohol  quality  \n",
              "0        8.00        3  \n",
              "1        8.00        5  \n",
              "2        8.40        5  \n",
              "3        8.40        5  \n",
              "4        8.40        4  \n",
              "...       ...      ...  \n",
              "4893    14.00        8  \n",
              "4894    14.00        6  \n",
              "4895    14.00        7  \n",
              "4896    14.05        7  \n",
              "4897    14.20        7  \n",
              "\n",
              "[4898 rows x 12 columns]"
            ]
          },
          "execution_count": 11,
          "metadata": {},
          "output_type": "execute_result"
        }
      ],
      "source": [
        "WineData = pd.read_csv('winequality-white.csv', sep = ';')\n",
        "WineData2 = WineData.sort_values('residual sugar')\n",
        "WineData3 = WineData2.sort_values('alcohol')\n",
        "WineData4 = WineData3.reset_index(drop = True)\n",
        "WineData4"
      ]
    },
    {
      "cell_type": "markdown",
      "metadata": {
        "id": "ayoG5BXxjP8I"
      },
      "source": [
        "### Categorizing wines and analyzing their properties (10 points)\n",
        "\n",
        "The LCBO sugar code categorizes wine as dry if it has less than 2% residual sugar, medium (or semi-dry or semi-sweet) if it has between 2 and 7% residual sugar, and sweet if it has >7% residual sugar.\n",
        "\n",
        "**<font color=blue>0 / 5 points</font>** Categorize each wine according to its sweetness, and add its category to the dataframe. If you can't figure out how to add the categories to the dataframe, partial credit will be given for creating separate dataframes for each category. Hint: I found [this page](https://datatofish.com/if-condition-in-pandas-dataframe/) to have helpful tips. Finally, what fraction of the wines are in each category?"
      ]
    },
    {
      "cell_type": "code",
      "execution_count": null,
      "metadata": {
        "id": "t8M4LOyzjP8J",
        "outputId": "5bfe129e-bdac-4ea0-ff0e-331351d2f1d7"
      },
      "outputs": [
        {
          "name": "stdout",
          "output_type": "stream",
          "text": [
            "[0.29011841567986935, 0.3107390771743569, 0.39914250714577376]\n"
          ]
        }
      ],
      "source": [
        "WineData4.loc[WineData4['residual sugar'] < 2.00, 'sweetness'] = 'dry'\n",
        "WineData4.loc[(WineData4['residual sugar'] >= 2.00) & (WineData4['residual sugar'] <= 7.00), 'sweetness'] = 'semi-sweet'\n",
        "WineData4.loc[WineData4['residual sugar'] > 7.00, 'sweetness'] = 'sweet'\n",
        "a = WineData4['sweetness'].value_counts()['dry']\n",
        "b = WineData4['sweetness'].value_counts()['semi-sweet']\n",
        "c = WineData4['sweetness'].value_counts()['sweet']\n",
        "DryFract = a/(a+b+c)\n",
        "MediumFract = b/(a+b+c)\n",
        "SweetFract = c/(a+b+c)\n",
        "print([DryFract, MediumFract, SweetFract])"
      ]
    },
    {
      "cell_type": "markdown",
      "metadata": {
        "id": "rFUIFutkjP8J"
      },
      "source": [
        "**<font color=blue>0 / 5 points</font>** When wine is fermented, sugar is converted into alcohol. We might therefore expect that high-alcohol wines have less sugar. Do you observe this trend across the whole dataset? What about within each category (for example, among dry wines, do high-alcohol wines have less sugar)? No need to perform regression for this question; plotting the data and describing what you see is sufficient."
      ]
    },
    {
      "cell_type": "code",
      "execution_count": null,
      "metadata": {
        "id": "aMA-NDCvjP8J",
        "outputId": "236c605f-8779-4577-9d68-7ac510e85678"
      },
      "outputs": [
        {
          "data": {
            "image/png": "[encoded data removed]",
            "text/plain": [
              "<Figure size 640x480 with 4 Axes>"
            ]
          },
          "metadata": {},
          "output_type": "display_data"
        }
      ],
      "source": [
        "d = WineData4[WineData4['sweetness'].str.contains('dry')]\n",
        "e = WineData4[WineData4['sweetness'].str.contains('semi-sweet')]\n",
        "f = WineData4[WineData4['sweetness'].str.contains('sweet')]\n",
        "\n",
        "fig, ax = plt.subplots(2, 2)\n",
        "ax[0,0].scatter(WineData4['alcohol'], WineData4['residual sugar'])\n",
        "ax[0,0].set_xlabel('alcohol content (%)')\n",
        "ax[0,0].set_ylabel('residual sugar content (%)')\n",
        "ax[0,0].set_title('Entire Dataset')\n",
        "ax[0,1].scatter(d['alcohol'], d['residual sugar'])\n",
        "ax[0,1].set_xlabel('alcohol content (%)')\n",
        "ax[0,1].set_ylabel('residual sugar content (%)')\n",
        "ax[0,1].set_title('Dry Wines')\n",
        "ax[1,0].scatter(e['alcohol'], e['residual sugar'])\n",
        "ax[1,0].set_xlabel('alcohol content (%)')\n",
        "ax[1,0].set_ylabel('residual sugar content (%)')\n",
        "ax[1,0].set_title('Semi-sweet Wines')\n",
        "ax[1,1].scatter(f['alcohol'], f['residual sugar'])\n",
        "ax[1,1].set_xlabel('alcohol content (%)')\n",
        "ax[1,1].set_ylabel('residual sugar content (%)')\n",
        "ax[1,1].set_title('Sweet Wines')\n",
        "plt.tight_layout()\n",
        "plt.show()"
      ]
    },
    {
      "cell_type": "markdown",
      "metadata": {
        "id": "9q6ES-JfjP8J"
      },
      "source": [
        "### Predicting wine quality (30 points)\n",
        "\n",
        "**<font color=blue>0 / 5 points</font>** Normalize the data to give a mean of zero and a standard deviation of 1. Divide the dataset into training and test sets, with 30% of the data in the test set."
      ]
    },
    {
      "cell_type": "code",
      "execution_count": null,
      "metadata": {
        "id": "A9oYTCaTjP8K",
        "outputId": "5ce39071-c177-453f-ce6e-da4cc00a9fc3"
      },
      "outputs": [
        {
          "ename": "ValueError",
          "evalue": "Boolean array expected for the condition, not float64",
          "output_type": "error",
          "traceback": [
            "\u001b[0;31m---------------------------------------------------------------------------\u001b[0m",
            "\u001b[0;31mValueError\u001b[0m                                Traceback (most recent call last)",
            "\u001b[0;32m/var/folders/t4/yjdjyyw97tv_1x5qv_k8bqzh0000gn/T/ipykernel_11622/3523273293.py\u001b[0m in \u001b[0;36m?\u001b[0;34m()\u001b[0m\n\u001b[1;32m      1\u001b[0m \u001b[0mProperty\u001b[0m \u001b[0;34m=\u001b[0m \u001b[0mWineData4\u001b[0m\u001b[0;34m.\u001b[0m\u001b[0mcolumns\u001b[0m\u001b[0;34m\u001b[0m\u001b[0;34m\u001b[0m\u001b[0m\n\u001b[1;32m      2\u001b[0m \u001b[0mProperties\u001b[0m \u001b[0;34m=\u001b[0m \u001b[0mWineData4\u001b[0m\u001b[0;34m.\u001b[0m\u001b[0mdrop\u001b[0m\u001b[0;34m(\u001b[0m\u001b[0mcolumns\u001b[0m \u001b[0;34m=\u001b[0m \u001b[0;34m'sweetness'\u001b[0m\u001b[0;34m)\u001b[0m\u001b[0;34m\u001b[0m\u001b[0;34m\u001b[0m\u001b[0m\n\u001b[0;32m----> 3\u001b[0;31m \u001b[0mWineNormal\u001b[0m \u001b[0;34m=\u001b[0m \u001b[0;34m(\u001b[0m\u001b[0mWineData4\u001b[0m\u001b[0;34m[\u001b[0m\u001b[0mProperties\u001b[0m\u001b[0;34m]\u001b[0m\u001b[0;34m-\u001b[0m\u001b[0mWineData4\u001b[0m\u001b[0;34m[\u001b[0m\u001b[0mProperties\u001b[0m\u001b[0;34m]\u001b[0m\u001b[0;34m.\u001b[0m\u001b[0mmean\u001b[0m\u001b[0;34m(\u001b[0m\u001b[0;34m)\u001b[0m\u001b[0;34m)\u001b[0m\u001b[0;34m/\u001b[0m\u001b[0mWineData4\u001b[0m\u001b[0;34m[\u001b[0m\u001b[0mProperties\u001b[0m\u001b[0;34m]\u001b[0m\u001b[0;34m.\u001b[0m\u001b[0mstd\u001b[0m\u001b[0;34m(\u001b[0m\u001b[0;34m)\u001b[0m\u001b[0;34m\u001b[0m\u001b[0;34m\u001b[0m\u001b[0m\n\u001b[0m\u001b[1;32m      4\u001b[0m \u001b[0mWineNormal\u001b[0m\u001b[0;34m\u001b[0m\u001b[0;34m\u001b[0m\u001b[0m\n",
            "\u001b[0;32m~/anaconda3/lib/python3.11/site-packages/pandas/core/frame.py\u001b[0m in \u001b[0;36m?\u001b[0;34m(self, key)\u001b[0m\n\u001b[1;32m   3744\u001b[0m             \u001b[0;32mreturn\u001b[0m \u001b[0mself\u001b[0m\u001b[0;34m.\u001b[0m\u001b[0m_slice\u001b[0m\u001b[0;34m(\u001b[0m\u001b[0mindexer\u001b[0m\u001b[0;34m,\u001b[0m \u001b[0maxis\u001b[0m\u001b[0;34m=\u001b[0m\u001b[0;36m0\u001b[0m\u001b[0;34m)\u001b[0m\u001b[0;34m\u001b[0m\u001b[0;34m\u001b[0m\u001b[0m\n\u001b[1;32m   3745\u001b[0m \u001b[0;34m\u001b[0m\u001b[0m\n\u001b[1;32m   3746\u001b[0m         \u001b[0;31m# Do we have a (boolean) DataFrame?\u001b[0m\u001b[0;34m\u001b[0m\u001b[0;34m\u001b[0m\u001b[0m\n\u001b[1;32m   3747\u001b[0m         \u001b[0;32mif\u001b[0m \u001b[0misinstance\u001b[0m\u001b[0;34m(\u001b[0m\u001b[0mkey\u001b[0m\u001b[0;34m,\u001b[0m \u001b[0mDataFrame\u001b[0m\u001b[0;34m)\u001b[0m\u001b[0;34m:\u001b[0m\u001b[0;34m\u001b[0m\u001b[0;34m\u001b[0m\u001b[0m\n\u001b[0;32m-> 3748\u001b[0;31m             \u001b[0;32mreturn\u001b[0m \u001b[0mself\u001b[0m\u001b[0;34m.\u001b[0m\u001b[0mwhere\u001b[0m\u001b[0;34m(\u001b[0m\u001b[0mkey\u001b[0m\u001b[0;34m)\u001b[0m\u001b[0;34m\u001b[0m\u001b[0;34m\u001b[0m\u001b[0m\n\u001b[0m\u001b[1;32m   3749\u001b[0m \u001b[0;34m\u001b[0m\u001b[0m\n\u001b[1;32m   3750\u001b[0m         \u001b[0;31m# Do we have a (boolean) 1d indexer?\u001b[0m\u001b[0;34m\u001b[0m\u001b[0;34m\u001b[0m\u001b[0m\n\u001b[1;32m   3751\u001b[0m         \u001b[0;32mif\u001b[0m \u001b[0mcom\u001b[0m\u001b[0;34m.\u001b[0m\u001b[0mis_bool_indexer\u001b[0m\u001b[0;34m(\u001b[0m\u001b[0mkey\u001b[0m\u001b[0;34m)\u001b[0m\u001b[0;34m:\u001b[0m\u001b[0;34m\u001b[0m\u001b[0;34m\u001b[0m\u001b[0m\n",
            "\u001b[0;32m~/anaconda3/lib/python3.11/site-packages/pandas/core/frame.py\u001b[0m in \u001b[0;36m?\u001b[0;34m(self, cond, other, inplace, axis, level)\u001b[0m\n\u001b[1;32m  11523\u001b[0m         \u001b[0minplace\u001b[0m\u001b[0;34m:\u001b[0m \u001b[0mbool\u001b[0m \u001b[0;34m=\u001b[0m \u001b[0;32mFalse\u001b[0m\u001b[0;34m,\u001b[0m\u001b[0;34m\u001b[0m\u001b[0;34m\u001b[0m\u001b[0m\n\u001b[1;32m  11524\u001b[0m         \u001b[0maxis\u001b[0m\u001b[0;34m:\u001b[0m \u001b[0mAxis\u001b[0m \u001b[0;34m|\u001b[0m \u001b[0;32mNone\u001b[0m \u001b[0;34m=\u001b[0m \u001b[0;32mNone\u001b[0m\u001b[0;34m,\u001b[0m\u001b[0;34m\u001b[0m\u001b[0;34m\u001b[0m\u001b[0m\n\u001b[1;32m  11525\u001b[0m         \u001b[0mlevel\u001b[0m\u001b[0;34m:\u001b[0m \u001b[0mLevel\u001b[0m \u001b[0;34m=\u001b[0m \u001b[0;32mNone\u001b[0m\u001b[0;34m,\u001b[0m\u001b[0;34m\u001b[0m\u001b[0;34m\u001b[0m\u001b[0m\n\u001b[1;32m  11526\u001b[0m     ) -> DataFrame | None:\n\u001b[0;32m> 11527\u001b[0;31m         return super().where(\n\u001b[0m\u001b[1;32m  11528\u001b[0m             \u001b[0mcond\u001b[0m\u001b[0;34m,\u001b[0m\u001b[0;34m\u001b[0m\u001b[0;34m\u001b[0m\u001b[0m\n\u001b[1;32m  11529\u001b[0m             \u001b[0mother\u001b[0m\u001b[0;34m,\u001b[0m\u001b[0;34m\u001b[0m\u001b[0;34m\u001b[0m\u001b[0m\n\u001b[1;32m  11530\u001b[0m             \u001b[0minplace\u001b[0m\u001b[0;34m=\u001b[0m\u001b[0minplace\u001b[0m\u001b[0;34m,\u001b[0m\u001b[0;34m\u001b[0m\u001b[0;34m\u001b[0m\u001b[0m\n",
            "\u001b[0;32m~/anaconda3/lib/python3.11/site-packages/pandas/core/generic.py\u001b[0m in \u001b[0;36m?\u001b[0;34m(self, cond, other, inplace, axis, level)\u001b[0m\n\u001b[1;32m   9929\u001b[0m         \u001b[0;36m3\u001b[0m  \u001b[0;32mTrue\u001b[0m  \u001b[0;32mTrue\u001b[0m\u001b[0;34m\u001b[0m\u001b[0;34m\u001b[0m\u001b[0m\n\u001b[1;32m   9930\u001b[0m         \u001b[0;36m4\u001b[0m  \u001b[0;32mTrue\u001b[0m  \u001b[0;32mTrue\u001b[0m\u001b[0;34m\u001b[0m\u001b[0;34m\u001b[0m\u001b[0m\n\u001b[1;32m   9931\u001b[0m         \"\"\"\n\u001b[1;32m   9932\u001b[0m         \u001b[0mother\u001b[0m \u001b[0;34m=\u001b[0m \u001b[0mcommon\u001b[0m\u001b[0;34m.\u001b[0m\u001b[0mapply_if_callable\u001b[0m\u001b[0;34m(\u001b[0m\u001b[0mother\u001b[0m\u001b[0;34m,\u001b[0m \u001b[0mself\u001b[0m\u001b[0;34m)\u001b[0m\u001b[0;34m\u001b[0m\u001b[0;34m\u001b[0m\u001b[0m\n\u001b[0;32m-> 9933\u001b[0;31m         \u001b[0;32mreturn\u001b[0m \u001b[0mself\u001b[0m\u001b[0;34m.\u001b[0m\u001b[0m_where\u001b[0m\u001b[0;34m(\u001b[0m\u001b[0mcond\u001b[0m\u001b[0;34m,\u001b[0m \u001b[0mother\u001b[0m\u001b[0;34m,\u001b[0m \u001b[0minplace\u001b[0m\u001b[0;34m,\u001b[0m \u001b[0maxis\u001b[0m\u001b[0;34m,\u001b[0m \u001b[0mlevel\u001b[0m\u001b[0;34m)\u001b[0m\u001b[0;34m\u001b[0m\u001b[0;34m\u001b[0m\u001b[0m\n\u001b[0m",
            "\u001b[0;32m~/anaconda3/lib/python3.11/site-packages/pandas/core/generic.py\u001b[0m in \u001b[0;36m?\u001b[0;34m(self, cond, other, inplace, axis, level)\u001b[0m\n\u001b[1;32m   9650\u001b[0m                     \u001b[0;32mraise\u001b[0m \u001b[0mValueError\u001b[0m\u001b[0;34m(\u001b[0m\u001b[0mmsg\u001b[0m\u001b[0;34m.\u001b[0m\u001b[0mformat\u001b[0m\u001b[0;34m(\u001b[0m\u001b[0mdtype\u001b[0m\u001b[0;34m=\u001b[0m\u001b[0mcond\u001b[0m\u001b[0;34m.\u001b[0m\u001b[0mdtype\u001b[0m\u001b[0;34m)\u001b[0m\u001b[0;34m)\u001b[0m\u001b[0;34m\u001b[0m\u001b[0;34m\u001b[0m\u001b[0m\n\u001b[1;32m   9651\u001b[0m             \u001b[0;32melse\u001b[0m\u001b[0;34m:\u001b[0m\u001b[0;34m\u001b[0m\u001b[0;34m\u001b[0m\u001b[0m\n\u001b[1;32m   9652\u001b[0m                 \u001b[0;32mfor\u001b[0m \u001b[0m_dt\u001b[0m \u001b[0;32min\u001b[0m \u001b[0mcond\u001b[0m\u001b[0;34m.\u001b[0m\u001b[0mdtypes\u001b[0m\u001b[0;34m:\u001b[0m\u001b[0;34m\u001b[0m\u001b[0;34m\u001b[0m\u001b[0m\n\u001b[1;32m   9653\u001b[0m                     \u001b[0;32mif\u001b[0m \u001b[0;32mnot\u001b[0m \u001b[0mis_bool_dtype\u001b[0m\u001b[0;34m(\u001b[0m\u001b[0m_dt\u001b[0m\u001b[0;34m)\u001b[0m\u001b[0;34m:\u001b[0m\u001b[0;34m\u001b[0m\u001b[0;34m\u001b[0m\u001b[0m\n\u001b[0;32m-> 9654\u001b[0;31m                         \u001b[0;32mraise\u001b[0m \u001b[0mValueError\u001b[0m\u001b[0;34m(\u001b[0m\u001b[0mmsg\u001b[0m\u001b[0;34m.\u001b[0m\u001b[0mformat\u001b[0m\u001b[0;34m(\u001b[0m\u001b[0mdtype\u001b[0m\u001b[0;34m=\u001b[0m\u001b[0m_dt\u001b[0m\u001b[0;34m)\u001b[0m\u001b[0;34m)\u001b[0m\u001b[0;34m\u001b[0m\u001b[0;34m\u001b[0m\u001b[0m\n\u001b[0m\u001b[1;32m   9655\u001b[0m         \u001b[0;32melse\u001b[0m\u001b[0;34m:\u001b[0m\u001b[0;34m\u001b[0m\u001b[0;34m\u001b[0m\u001b[0m\n\u001b[1;32m   9656\u001b[0m             \u001b[0;31m# GH#21947 we have an empty DataFrame/Series, could be object-dtype\u001b[0m\u001b[0;34m\u001b[0m\u001b[0;34m\u001b[0m\u001b[0m\n\u001b[1;32m   9657\u001b[0m             \u001b[0mcond\u001b[0m \u001b[0;34m=\u001b[0m \u001b[0mcond\u001b[0m\u001b[0;34m.\u001b[0m\u001b[0mastype\u001b[0m\u001b[0;34m(\u001b[0m\u001b[0mbool\u001b[0m\u001b[0;34m)\u001b[0m\u001b[0;34m\u001b[0m\u001b[0;34m\u001b[0m\u001b[0m\n",
            "\u001b[0;31mValueError\u001b[0m: Boolean array expected for the condition, not float64"
          ]
        }
      ],
      "source": [
        "Property = WineData4.columns\n",
        "Properties = WineData4.drop(columns = 'sweetness')\n",
        "WineNormal = (WineData4[Properties] - WineData4[Properties].mean()) / WineData4[Properties].std()\n",
        "WineNormal"
      ]
    },
    {
      "cell_type": "markdown",
      "metadata": {
        "id": "h-r01PtLjP8K"
      },
      "source": [
        "**<font color=blue>0 / 5 points</font>** Fit a model to predict wine quality using linear regression, and report the RMSE of the training and test sets. Make a parity plot showing the accuracy of your predictions in the training and test sets. (Report quality in original units; minus 1 point if reported in normalized units)"
      ]
    },
    {
      "cell_type": "code",
      "execution_count": null,
      "metadata": {
        "id": "IJKtlmKkjP8K"
      },
      "outputs": [],
      "source": []
    },
    {
      "cell_type": "markdown",
      "metadata": {
        "id": "kocpPPWTjP8K"
      },
      "source": [
        "**<font color=blue>0 / 5 points</font>** Fit a model to predict wine quality using LASSO regression, adjusting the value of alpha until you have 4 nonzero coefficients remaining. Report the normalized RMSE for the test set and the training set."
      ]
    },
    {
      "cell_type": "code",
      "execution_count": null,
      "metadata": {
        "id": "aoNOMSI1jP8L"
      },
      "outputs": [],
      "source": []
    },
    {
      "cell_type": "markdown",
      "metadata": {
        "id": "z37X-hSAjP8L"
      },
      "source": [
        "**<font color=blue>0 / 10 points</font>** Fit three models to predict wine quality using LASSO regression, one model for each category of wine (sweet, semi-sweet, dry), and report the RMSE for the training and test set for each category. Are some types of wine easier to predict than other types? Are the same factors important across all categories, or is quality among dry white wines characterized by different features compared to quality among sweet wines?"
      ]
    },
    {
      "cell_type": "code",
      "execution_count": null,
      "metadata": {
        "id": "LNLP5qHVjP8L"
      },
      "outputs": [],
      "source": []
    },
    {
      "cell_type": "markdown",
      "metadata": {
        "id": "LXHOm9ppjP8L"
      },
      "source": [
        "**<font color=blue>0 / 5 points</font>** Display these predictions in two side-by-side parity plots (using matplotlib or plotly; it's your choice). In one parity plot, show the prediction vs. experiment using the whole data set and one set of fitted coefficients, while coloring the points according to their category, and changing the marker style according to test or training set. In the other parity plot, show the prediction vs. experiment using where the predictions come from the three separate models, still coloring the points according to their category, and changing the marker style according to test or training set."
      ]
    },
    {
      "cell_type": "code",
      "execution_count": null,
      "metadata": {
        "id": "QnoIj9NsjP8L"
      },
      "outputs": [],
      "source": []
    },
    {
      "cell_type": "markdown",
      "metadata": {
        "id": "Rkxgey5TjP8L"
      },
      "source": [
        "~~## Part 2: EFGR Inhibitor Classification (43 points)~~"
      ]
    },
    {
      "cell_type": "markdown",
      "metadata": {
        "id": "aIfBQAh1jP8L"
      },
      "source": [
        "~~### Loading and visualizing molecules (3 points)~~\n",
        "\n",
        "~~**<font color=blue>0 / 3 points</font>** Load the .csv files for the active and inactive EFGR inhibitors into a DataFrame, and create lists of molecule objects for each. Display in a grid 5 molecules from each set. ~~"
      ]
    },
    {
      "cell_type": "code",
      "execution_count": null,
      "metadata": {
        "id": "8TYh2Wi6jP8L"
      },
      "outputs": [],
      "source": []
    },
    {
      "cell_type": "markdown",
      "metadata": {
        "id": "EpoYzNcpjP8M"
      },
      "source": [
        "~~### Classification using global descriptors (10 points)~~\n",
        "\n",
        "~~**<font color=blue>0 / 5 points</font>** Use RDKit to calculate the values of at least 5 global descriptors (such as heavy atom count, LogP, etc.). Add these values to the DataFrame from the previous problem. ~~"
      ]
    },
    {
      "cell_type": "code",
      "execution_count": null,
      "metadata": {
        "id": "6NCQ_s2mjP8M"
      },
      "outputs": [],
      "source": []
    },
    {
      "cell_type": "markdown",
      "metadata": {
        "id": "czflp24rjP8M"
      },
      "source": [
        "~~**<font color=blue>0 / 5 points</font>** Using these global descriptors as your features, fit a classification model to predict activity. Put 20% of the molecules in the test set (when you do this, please use `train_test_split` and set random=0), and report the accuracy of the model. How accurate is this model on the training set? On the test set?~~"
      ]
    },
    {
      "cell_type": "code",
      "execution_count": null,
      "metadata": {
        "id": "_Sn84WZujP8M"
      },
      "outputs": [],
      "source": []
    },
    {
      "cell_type": "markdown",
      "metadata": {
        "id": "BEhO-H15jP8M"
      },
      "source": [
        "~~### Classification using Morgan fingerprints (30 points)~~\n",
        "\n",
        "~~**<font color=blue>0 / 5 points</font>** Calculate Morgan fingerprints of radius 2 for each molecule, and fit a classification model using the fingerprints as your features (put 20% of the molecules in the test set). Report the accuracy of the model on the training set and test set. (This question closely resembles what we did in Lecture 15 Notebook)~~"
      ]
    },
    {
      "cell_type": "code",
      "execution_count": null,
      "metadata": {
        "id": "RSTvQV7HjP8M"
      },
      "outputs": [],
      "source": []
    },
    {
      "cell_type": "markdown",
      "metadata": {
        "id": "9sZa84WcjP8M"
      },
      "source": [
        "~~**<font color=blue> 0 / 10 points </font>** Examine the Tanimoto similarity of the active and inactive molecules to each of the 5 FDA-approved molecules using the fingerprints. Think of a way to visualize this, and share your findings.~~"
      ]
    },
    {
      "cell_type": "code",
      "execution_count": null,
      "metadata": {
        "id": "NUZCHWPhjP8M"
      },
      "outputs": [],
      "source": []
    },
    {
      "cell_type": "markdown",
      "metadata": {
        "id": "umsAnDx8jP8M"
      },
      "source": [
        "~~**<font color=blue> 0 / 10 points </font>** Take a look at the classification coefficients. Which molecular fingerprint features have the most positive weights, and which have the most negative weights? How many molecules in the active set and the inactive set have the feature with the highest positive weight? How many molecules in the active set and inactive set have the feature with the lowest negative weight? ~~"
      ]
    },
    {
      "cell_type": "code",
      "execution_count": null,
      "metadata": {
        "id": "hWVWoFAyjP8M"
      },
      "outputs": [],
      "source": []
    },
    {
      "cell_type": "markdown",
      "metadata": {
        "id": "wBHJeOZdjP8M"
      },
      "source": [
        "~~**<font color=blue> 0 / 5 points </font>** For the feature with the largest positive weight, find a molecule in the active set with that fragment, and visualize the fingerprint fragment. For the feature with the most negative weight, find a molecule in the inactive set with that fragment, and visualize the fingerprint fragment.~~"
      ]
    },
    {
      "cell_type": "code",
      "execution_count": null,
      "metadata": {
        "id": "2BsTONOXjP8M"
      },
      "outputs": [],
      "source": []
    }
  ],
  "metadata": {
    "kernelspec": {
      "display_name": "Python 3 (ipykernel)",
      "language": "python",
      "name": "python3"
    },
    "language_info": {
      "codemirror_mode": {
        "name": "ipython",
        "version": 3
      },
      "file_extension": ".py",
      "mimetype": "text/x-python",
      "name": "python",
      "nbconvert_exporter": "python",
      "pygments_lexer": "ipython3",
      "version": "3.11.5"
    },
    "colab": {
      "provenance": [],
      "include_colab_link": true
    }
  },
  "nbformat": 4,
  "nbformat_minor": 0
}